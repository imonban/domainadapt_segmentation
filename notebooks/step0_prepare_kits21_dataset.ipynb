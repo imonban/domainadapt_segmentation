{
 "cells": [
  {
   "cell_type": "code",
   "execution_count": 16,
   "metadata": {},
   "outputs": [],
   "source": [
    "from glob import glob \n",
    "from pathlib import Path\n",
    "from sklearn.model_selection import train_test_split \n",
    "import nibabel as nib \n",
    "import numpy as np "
   ]
  },
  {
   "cell_type": "code",
   "execution_count": 6,
   "metadata": {},
   "outputs": [],
   "source": [
    "#list volumes and list labels in the directories \n",
    "source_dir =Path(\"/media/Datacenter_storage/ramon_dataset_curations/kidney_segmentation/source/kits_data_spec/kits21/data\")\n",
    "label_dir =Path(\"/media/Datacenter_storage/ramon_dataset_curations/kidney_segmentation/source/kits_data_spec/kits21/data\")\n",
    "image_paths = list(source_dir.rglob(\"*imaging*\"))\n",
    "label_paths = list(label_dir.rglob(\"*aggregated_AND_seg.nii.gz\"))"
   ]
  },
  {
   "cell_type": "code",
   "execution_count": 11,
   "metadata": {},
   "outputs": [
    {
     "name": "stdout",
     "output_type": "stream",
     "text": [
      "300\n",
      "300\n"
     ]
    }
   ],
   "source": [
    "# parse their ids based on name \n",
    "def gen_dict(dir_iter):\n",
    "    out_dict = dict() \n",
    "    print(len(dir_iter))\n",
    "    for e in dir_iter:\n",
    "        f_path = str(e)\n",
    "        case_name = f_path.split('/')[-2]\n",
    "        out_dict[case_name] = f_path\n",
    "    return out_dict\n",
    "image_dict = gen_dict(image_paths)\n",
    "label_dict = gen_dict(label_paths)"
   ]
  },
  {
   "cell_type": "code",
   "execution_count": 12,
   "metadata": {},
   "outputs": [],
   "source": [
    "\n",
    "seg_samples = list() \n",
    "for e in image_dict.keys(): \n",
    "    sample_dict = dict() \n",
    "    sample_dict['image'] = image_dict[e]\n",
    "    sample_dict['label']= label_dict[e]\n",
    "    sample_dict['phase']= 1\n",
    "    seg_samples.append(sample_dict)\n"
   ]
  },
  {
   "cell_type": "code",
   "execution_count": 10,
   "metadata": {},
   "outputs": [
    {
     "data": {
      "text/plain": [
       "\" \\nfor e in seg_samples:\\n    vol = nib.load(e['label'])\\n    arr = (vol.get_fdata() ==1).astype(np.int)\\n    nii =nib.Nifti1Image(arr,affine=vol.affine,header=vol.header)\\n    nib.save(nii,e['label'])\\n\""
      ]
     },
     "execution_count": 10,
     "metadata": {},
     "output_type": "execute_result"
    }
   ],
   "source": [
    "\n",
    "#this is an old processing step that would   modify masks to be kidney only \n",
    "\"\"\" \n",
    "for e in seg_samples:\n",
    "    vol = nib.load(e['label'])\n",
    "    arr = (vol.get_fdata() ==1).astype(np.int)\n",
    "    nii =nib.Nifti1Image(arr,affine=vol.affine,header=vol.header)\n",
    "    nib.save(nii,e['label'])\n",
    "\"\"\""
   ]
  },
  {
   "cell_type": "code",
   "execution_count": 14,
   "metadata": {},
   "outputs": [],
   "source": [
    "# sort the files by name to have them in a consistent ordering \n",
    "seg_samples = sorted(seg_samples,key= lambda x: x['image'])"
   ]
  },
  {
   "cell_type": "code",
   "execution_count": 17,
   "metadata": {},
   "outputs": [],
   "source": [
    "\n",
    "train,test = train_test_split(seg_samples,random_state=1996)\n",
    "test,val = train_test_split(test,random_state=1996)"
   ]
  },
  {
   "cell_type": "code",
   "execution_count": 18,
   "metadata": {},
   "outputs": [],
   "source": [
    "\n",
    "kits21 = (train,test,val)"
   ]
  },
  {
   "cell_type": "code",
   "execution_count": 19,
   "metadata": {},
   "outputs": [
    {
     "ename": "FileNotFoundError",
     "evalue": "[Errno 2] No such file or directory: '../data/kits21_data.pkl'",
     "output_type": "error",
     "traceback": [
      "\u001b[0;31m---------------------------------------------------------------------------\u001b[0m",
      "\u001b[0;31mFileNotFoundError\u001b[0m                         Traceback (most recent call last)",
      "\u001b[0;32m<ipython-input-19-198b9955d067>\u001b[0m in \u001b[0;36m<module>\u001b[0;34m\u001b[0m\n\u001b[1;32m      1\u001b[0m \u001b[0;32mimport\u001b[0m \u001b[0mpickle\u001b[0m  \u001b[0;32mas\u001b[0m \u001b[0mpkl\u001b[0m\u001b[0;34m\u001b[0m\u001b[0;34m\u001b[0m\u001b[0m\n\u001b[1;32m      2\u001b[0m \u001b[0;34m\u001b[0m\u001b[0m\n\u001b[0;32m----> 3\u001b[0;31m \u001b[0;32mwith\u001b[0m \u001b[0mopen\u001b[0m\u001b[0;34m(\u001b[0m\u001b[0;34m'../data/kits21_data.pkl'\u001b[0m\u001b[0;34m,\u001b[0m\u001b[0;34m'wb'\u001b[0m\u001b[0;34m)\u001b[0m \u001b[0;32mas\u001b[0m \u001b[0mf\u001b[0m\u001b[0;34m:\u001b[0m\u001b[0;34m\u001b[0m\u001b[0;34m\u001b[0m\u001b[0m\n\u001b[0m\u001b[1;32m      4\u001b[0m     \u001b[0mpkl\u001b[0m\u001b[0;34m.\u001b[0m\u001b[0mdump\u001b[0m\u001b[0;34m(\u001b[0m\u001b[0mkits21\u001b[0m\u001b[0;34m,\u001b[0m\u001b[0mf\u001b[0m\u001b[0;34m)\u001b[0m\u001b[0;34m\u001b[0m\u001b[0;34m\u001b[0m\u001b[0m\n",
      "\u001b[0;31mFileNotFoundError\u001b[0m: [Errno 2] No such file or directory: '../data/kits21_data.pkl'"
     ]
    }
   ],
   "source": [
    "import pickle  as pkl \n",
    "\n",
    "with open('../data/kits21_data.pkl','wb') as f: \n",
    "    pkl.dump(kits21,f) "
   ]
  },
  {
   "cell_type": "code",
   "execution_count": null,
   "metadata": {},
   "outputs": [],
   "source": []
  }
 ],
 "metadata": {
  "kernelspec": {
   "display_name": "Python 3.8.10 64-bit",
   "language": "python",
   "name": "python3"
  },
  "language_info": {
   "codemirror_mode": {
    "name": "ipython",
    "version": 3
   },
   "file_extension": ".py",
   "mimetype": "text/x-python",
   "name": "python",
   "nbconvert_exporter": "python",
   "pygments_lexer": "ipython3",
   "version": "3.8.10"
  },
  "orig_nbformat": 4,
  "vscode": {
   "interpreter": {
    "hash": "e7370f93d1d0cde622a1f8e1c04877d8463912d04d973331ad4851f04de6915a"
   }
  }
 },
 "nbformat": 4,
 "nbformat_minor": 2
}
