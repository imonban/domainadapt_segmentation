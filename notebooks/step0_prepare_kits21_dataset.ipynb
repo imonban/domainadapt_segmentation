{
 "cells": [
  {
   "cell_type": "code",
   "execution_count": null,
   "metadata": {},
   "outputs": [],
   "source": [
    "from glob import glob \n",
    "from pathlib import Path\n",
    "from sklearn.model_selection import train_test_split \n",
    "import nibabel as nib \n",
    "import numpy as np "
   ]
  },
  {
   "cell_type": "code",
   "execution_count": null,
   "metadata": {},
   "outputs": [],
   "source": [
    "#list volumes and list labels in the directories \n",
    "source_dir =Path(\"/media/Datacenter_storage/ramon_dataset_curations/kidney_segmentation/source/kits_data_spec/kits21/data\")\n",
    "label_dir =Path(\"/media/Datacenter_storage/ramon_dataset_curations/kidney_segmentation/source/kits_data_spec/kits21/data\")\n",
    "image_paths = list(source_dir.rglob(\"*imaging*\"))\n",
    "label_paths = list(label_dir.rglob(\"*aggregated_AND_seg.nii.gz\"))"
   ]
  },
  {
   "cell_type": "code",
   "execution_count": null,
   "metadata": {},
   "outputs": [],
   "source": [
    "# parse their ids based on name \n",
    "def gen_dict(dir_iter):\n",
    "    out_dict = dict() \n",
    "    print(len(dir_iter))\n",
    "    for e in dir_iter:\n",
    "        f_path = str(e)\n",
    "        case_name = f_path.split('/')[-2]\n",
    "        out_dict[case_name] = f_path\n",
    "    return out_dict\n",
    "image_dict = gen_dict(image_paths)\n",
    "label_dict = gen_dict(label_paths)"
   ]
  },
  {
   "cell_type": "code",
   "execution_count": null,
   "metadata": {},
   "outputs": [],
   "source": [
    "\n",
    "seg_samples = list() \n",
    "for e in image_dict.keys(): \n",
    "    sample_dict = dict() \n",
    "    sample_dict['image'] = image_dict[e]\n",
    "    sample_dict['label']= label_dict[e]\n",
    "    sample_dict['phase']= 1\n",
    "    seg_samples.append(sample_dict)\n"
   ]
  },
  {
   "cell_type": "code",
   "execution_count": null,
   "metadata": {},
   "outputs": [],
   "source": [
    "\n",
    "#this is an old processing step that would   modify masks to be kidney only \n",
    "\"\"\" \n",
    "for e in seg_samples:\n",
    "    vol = nib.load(e['label'])\n",
    "    arr = (vol.get_fdata() ==1).astype(np.int)\n",
    "    nii =nib.Nifti1Image(arr,affine=vol.affine,header=vol.header)\n",
    "    nib.save(nii,e['label'])\n",
    "\"\"\""
   ]
  },
  {
   "cell_type": "code",
   "execution_count": null,
   "metadata": {},
   "outputs": [],
   "source": [
    "# sort the files by name to have them in a consistent ordering \n",
    "seg_samples = sorted(seg_samples,key= lambda x: x['image'])"
   ]
  },
  {
   "cell_type": "code",
   "execution_count": null,
   "metadata": {},
   "outputs": [],
   "source": [
    "\n",
    "train,test = train_test_split(seg_samples,random_state=1996)\n",
    "test,val = train_test_split(test,random_state=1996)"
   ]
  },
  {
   "cell_type": "code",
   "execution_count": null,
   "metadata": {},
   "outputs": [],
   "source": [
    "\n",
    "kits21 = (train,test,val)"
   ]
  },
  {
   "cell_type": "code",
   "execution_count": null,
   "metadata": {},
   "outputs": [],
   "source": [
    "import pickle  as pkl \n",
    "\n",
    "with open('../data/kits21_data.pkl','wb') as f: \n",
    "    pkl.dump(kits21,f) "
   ]
  },
  {
   "cell_type": "code",
   "execution_count": null,
   "metadata": {},
   "outputs": [],
   "source": [
    "print('hi')"
   ]
  },
  {
   "cell_type": "code",
   "execution_count": null,
   "metadata": {},
   "outputs": [],
   "source": [
    "new modificatio n"
   ]
  },
  {
   "cell_type": "code",
   "execution_count": null,
   "metadata": {},
   "outputs": [],
   "source": []
  }
 ],
 "metadata": {
  "kernelspec": {
   "display_name": "Python 3.8.10 64-bit",
   "language": "python",
   "name": "python3"
  },
  "language_info": {
   "codemirror_mode": {
    "name": "ipython",
    "version": 3
   },
   "file_extension": ".py",
   "mimetype": "text/x-python",
   "name": "python",
   "nbconvert_exporter": "python",
   "pygments_lexer": "ipython3",
   "version": "3.8.10"
  },
  "vscode": {
   "interpreter": {
    "hash": "e7370f93d1d0cde622a1f8e1c04877d8463912d04d973331ad4851f04de6915a"
   }
  }
 },
 "nbformat": 4,
 "nbformat_minor": 2
}
